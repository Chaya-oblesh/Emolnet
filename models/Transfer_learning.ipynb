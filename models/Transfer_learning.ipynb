{
 "cells": [
  {
   "cell_type": "code",
   "execution_count": 1,
   "id": "9a01afac-41d1-42df-955a-570e90bec73e",
   "metadata": {},
   "outputs": [],
   "source": [
    "import pandas as pd\n",
    "import tensorflow as tf\n",
    "import numpy as np\n",
    "import matplotlib.pyplot as plt\n",
    "import seaborn as sns\n",
    "import os\n",
    "import re\n",
    "\n",
    "from sklearn.model_selection import train_test_split\n",
    "from transformers import DistilBertTokenizerFast\n",
    "from transformers import TFDistilBertModel\n",
    "from tensorflow.keras.layers import Input, Dense, Dropout\n",
    "from tensorflow.keras.preprocessing.sequence import pad_sequences\n",
    "from sklearn.metrics import mean_squared_error, mean_absolute_error\n",
    "from sklearn.metrics import r2_score"
   ]
  },
  {
   "cell_type": "code",
   "execution_count": 2,
   "id": "d2d16ace-986f-4e69-bb80-29f6ae12dcd6",
   "metadata": {},
   "outputs": [],
   "source": [
    "def combine_data(folder_path):\n",
    "    data_frames = []\n",
    "\n",
    "    for file_name in os.listdir(folder_path):\n",
    "        if file_name.endswith(\".txt\"):\n",
    "            file_path = os.path.join(folder_path, file_name)\n",
    "            df = pd.read_csv(file_path, sep='\\t', names=[\"ID\", \"Text\", \"Emotion\", \"Intensity\"])\n",
    "            data_frames.append(df)\n",
    "\n",
    "    combined_data = pd.concat(data_frames, ignore_index=True)\n",
    "    return combined_data"
   ]
  },
  {
   "cell_type": "code",
   "execution_count": 3,
   "id": "45861c02-7d74-46c8-bfb6-15cb5fe358bc",
   "metadata": {},
   "outputs": [],
   "source": [
    "def preprocess_text(text):\n",
    "\n",
    "    text = text.lower()  # Convert to lowercase\n",
    "    text = ' '.join(word for word in text.split() if '@' not in word)  # Remove mentions\n",
    "    text = ' '.join(word for word in text.split() if 'http' not in word)  # Remove URLs\n",
    "\n",
    "    return text"
   ]
  },
  {
   "cell_type": "code",
   "execution_count": 4,
   "id": "a22440bd-f289-44ac-8034-4ef4a6f83138",
   "metadata": {},
   "outputs": [],
   "source": [
    "# Combining the train data and dev data for training.\n",
    "training_data = combine_data('train')\n",
    "dev_data = combine_data('development/with_intensity')"
   ]
  },
  {
   "cell_type": "code",
   "execution_count": 5,
   "id": "0eaa6f99-2d5f-41d6-9b45-b63189a45472",
   "metadata": {},
   "outputs": [],
   "source": [
    "train_data = pd.concat([training_data, dev_data], ignore_index=True)"
   ]
  },
  {
   "cell_type": "code",
   "execution_count": 6,
   "id": "ce9400da-1b5d-4543-adb1-d36a335e3cb7",
   "metadata": {},
   "outputs": [
    {
     "data": {
      "text/plain": [
       "(3960, 4)"
      ]
     },
     "execution_count": 6,
     "metadata": {},
     "output_type": "execute_result"
    }
   ],
   "source": [
    "train_data.shape"
   ]
  },
  {
   "cell_type": "code",
   "execution_count": 7,
   "id": "48410fcc-98d1-49b7-a602-eecbb74e477f",
   "metadata": {},
   "outputs": [
    {
     "name": "stdout",
     "output_type": "stream",
     "text": [
      "<class 'pandas.core.frame.DataFrame'>\n",
      "RangeIndex: 3960 entries, 0 to 3959\n",
      "Data columns (total 4 columns):\n",
      " #   Column     Non-Null Count  Dtype  \n",
      "---  ------     --------------  -----  \n",
      " 0   ID         3960 non-null   int64  \n",
      " 1   Text       3960 non-null   object \n",
      " 2   Emotion    3960 non-null   object \n",
      " 3   Intensity  3960 non-null   float64\n",
      "dtypes: float64(1), int64(1), object(2)\n",
      "memory usage: 123.9+ KB\n"
     ]
    }
   ],
   "source": [
    "train_data.info()"
   ]
  },
  {
   "cell_type": "markdown",
   "id": "0e09fc7b-3476-4753-92f9-0eec5b22b895",
   "metadata": {},
   "source": [
    "# Train the model using training data and dev data."
   ]
  },
  {
   "cell_type": "code",
   "execution_count": 8,
   "id": "46781889-cbd8-48c5-b687-0771eae4aa4f",
   "metadata": {},
   "outputs": [
    {
     "data": {
      "text/plain": [
       "0       how the fu*k! who the heck! moved my fridge!.....\n",
       "1       so my indian uber driver just called someone t...\n",
       "2       i asked for my parcel to be delivered to a pic...\n",
       "3       so ef whichever butt wipe pulled the fire alar...\n",
       "4       don't join they put the phone down on you, tal...\n",
       "                              ...                        \n",
       "3955    common app just randomly logged me out as i wa...\n",
       "3956    i'd rather laugh with the rarest genius, in be...\n",
       "3957    if you #invest in my new #film i will stop ask...\n",
       "3958    just watched django unchained, other people ma...\n",
       "3959    depressing how despicable trump, with no polic...\n",
       "Name: Text, Length: 3960, dtype: object"
      ]
     },
     "execution_count": 8,
     "metadata": {},
     "output_type": "execute_result"
    }
   ],
   "source": [
    "train_data['Text'].apply(preprocess_text)"
   ]
  },
  {
   "cell_type": "code",
   "execution_count": 9,
   "id": "50946c1c-35f5-471d-a7f6-9f557f45201c",
   "metadata": {},
   "outputs": [
    {
     "data": {
      "text/html": [
       "<div>\n",
       "<style scoped>\n",
       "    .dataframe tbody tr th:only-of-type {\n",
       "        vertical-align: middle;\n",
       "    }\n",
       "\n",
       "    .dataframe tbody tr th {\n",
       "        vertical-align: top;\n",
       "    }\n",
       "\n",
       "    .dataframe thead th {\n",
       "        text-align: right;\n",
       "    }\n",
       "</style>\n",
       "<table border=\"1\" class=\"dataframe\">\n",
       "  <thead>\n",
       "    <tr style=\"text-align: right;\">\n",
       "      <th></th>\n",
       "      <th>ID</th>\n",
       "      <th>Text</th>\n",
       "      <th>Emotion</th>\n",
       "      <th>Intensity</th>\n",
       "    </tr>\n",
       "  </thead>\n",
       "  <tbody>\n",
       "    <tr>\n",
       "      <th>0</th>\n",
       "      <td>10000</td>\n",
       "      <td>How the fu*k! Who the heck! moved my fridge!.....</td>\n",
       "      <td>anger</td>\n",
       "      <td>0.938</td>\n",
       "    </tr>\n",
       "    <tr>\n",
       "      <th>1</th>\n",
       "      <td>10001</td>\n",
       "      <td>So my Indian Uber driver just called someone t...</td>\n",
       "      <td>anger</td>\n",
       "      <td>0.896</td>\n",
       "    </tr>\n",
       "    <tr>\n",
       "      <th>2</th>\n",
       "      <td>10002</td>\n",
       "      <td>@DPD_UK I asked for my parcel to be delivered ...</td>\n",
       "      <td>anger</td>\n",
       "      <td>0.896</td>\n",
       "    </tr>\n",
       "    <tr>\n",
       "      <th>3</th>\n",
       "      <td>10003</td>\n",
       "      <td>so ef whichever butt wipe pulled the fire alar...</td>\n",
       "      <td>anger</td>\n",
       "      <td>0.896</td>\n",
       "    </tr>\n",
       "    <tr>\n",
       "      <th>4</th>\n",
       "      <td>10004</td>\n",
       "      <td>Don't join @BTCare they put the phone down on ...</td>\n",
       "      <td>anger</td>\n",
       "      <td>0.896</td>\n",
       "    </tr>\n",
       "  </tbody>\n",
       "</table>\n",
       "</div>"
      ],
      "text/plain": [
       "      ID                                               Text Emotion  Intensity\n",
       "0  10000  How the fu*k! Who the heck! moved my fridge!.....   anger      0.938\n",
       "1  10001  So my Indian Uber driver just called someone t...   anger      0.896\n",
       "2  10002  @DPD_UK I asked for my parcel to be delivered ...   anger      0.896\n",
       "3  10003  so ef whichever butt wipe pulled the fire alar...   anger      0.896\n",
       "4  10004  Don't join @BTCare they put the phone down on ...   anger      0.896"
      ]
     },
     "execution_count": 9,
     "metadata": {},
     "output_type": "execute_result"
    }
   ],
   "source": [
    "train_data.head()"
   ]
  },
  {
   "cell_type": "code",
   "execution_count": 10,
   "id": "0c93c166-2637-4233-8f41-9c3ad8ed7da9",
   "metadata": {},
   "outputs": [
    {
     "data": {
      "text/plain": [
       "160"
      ]
     },
     "execution_count": 10,
     "metadata": {},
     "output_type": "execute_result"
    }
   ],
   "source": [
    "train_data['Text'].apply(lambda x: len(x)).max()"
   ]
  },
  {
   "cell_type": "code",
   "execution_count": 11,
   "id": "4df462e4-456c-41af-83de-c78f89c799a9",
   "metadata": {},
   "outputs": [],
   "source": [
    "train_data = pd.get_dummies(train_data, columns=['Emotion'], prefix = '', prefix_sep = '')"
   ]
  },
  {
   "cell_type": "code",
   "execution_count": 12,
   "id": "1b8e69af-8819-4edf-bbda-28241d572451",
   "metadata": {},
   "outputs": [
    {
     "data": {
      "text/html": [
       "<div>\n",
       "<style scoped>\n",
       "    .dataframe tbody tr th:only-of-type {\n",
       "        vertical-align: middle;\n",
       "    }\n",
       "\n",
       "    .dataframe tbody tr th {\n",
       "        vertical-align: top;\n",
       "    }\n",
       "\n",
       "    .dataframe thead th {\n",
       "        text-align: right;\n",
       "    }\n",
       "</style>\n",
       "<table border=\"1\" class=\"dataframe\">\n",
       "  <thead>\n",
       "    <tr style=\"text-align: right;\">\n",
       "      <th></th>\n",
       "      <th>ID</th>\n",
       "      <th>Text</th>\n",
       "      <th>Intensity</th>\n",
       "      <th>anger</th>\n",
       "      <th>fear</th>\n",
       "      <th>joy</th>\n",
       "      <th>sadness</th>\n",
       "    </tr>\n",
       "  </thead>\n",
       "  <tbody>\n",
       "    <tr>\n",
       "      <th>0</th>\n",
       "      <td>10000</td>\n",
       "      <td>How the fu*k! Who the heck! moved my fridge!.....</td>\n",
       "      <td>0.938</td>\n",
       "      <td>1</td>\n",
       "      <td>0</td>\n",
       "      <td>0</td>\n",
       "      <td>0</td>\n",
       "    </tr>\n",
       "    <tr>\n",
       "      <th>1</th>\n",
       "      <td>10001</td>\n",
       "      <td>So my Indian Uber driver just called someone t...</td>\n",
       "      <td>0.896</td>\n",
       "      <td>1</td>\n",
       "      <td>0</td>\n",
       "      <td>0</td>\n",
       "      <td>0</td>\n",
       "    </tr>\n",
       "    <tr>\n",
       "      <th>2</th>\n",
       "      <td>10002</td>\n",
       "      <td>@DPD_UK I asked for my parcel to be delivered ...</td>\n",
       "      <td>0.896</td>\n",
       "      <td>1</td>\n",
       "      <td>0</td>\n",
       "      <td>0</td>\n",
       "      <td>0</td>\n",
       "    </tr>\n",
       "    <tr>\n",
       "      <th>3</th>\n",
       "      <td>10003</td>\n",
       "      <td>so ef whichever butt wipe pulled the fire alar...</td>\n",
       "      <td>0.896</td>\n",
       "      <td>1</td>\n",
       "      <td>0</td>\n",
       "      <td>0</td>\n",
       "      <td>0</td>\n",
       "    </tr>\n",
       "    <tr>\n",
       "      <th>4</th>\n",
       "      <td>10004</td>\n",
       "      <td>Don't join @BTCare they put the phone down on ...</td>\n",
       "      <td>0.896</td>\n",
       "      <td>1</td>\n",
       "      <td>0</td>\n",
       "      <td>0</td>\n",
       "      <td>0</td>\n",
       "    </tr>\n",
       "  </tbody>\n",
       "</table>\n",
       "</div>"
      ],
      "text/plain": [
       "      ID                                               Text  Intensity  anger  \\\n",
       "0  10000  How the fu*k! Who the heck! moved my fridge!.....      0.938      1   \n",
       "1  10001  So my Indian Uber driver just called someone t...      0.896      1   \n",
       "2  10002  @DPD_UK I asked for my parcel to be delivered ...      0.896      1   \n",
       "3  10003  so ef whichever butt wipe pulled the fire alar...      0.896      1   \n",
       "4  10004  Don't join @BTCare they put the phone down on ...      0.896      1   \n",
       "\n",
       "   fear  joy  sadness  \n",
       "0     0    0        0  \n",
       "1     0    0        0  \n",
       "2     0    0        0  \n",
       "3     0    0        0  \n",
       "4     0    0        0  "
      ]
     },
     "execution_count": 12,
     "metadata": {},
     "output_type": "execute_result"
    }
   ],
   "source": [
    "train_data.head()"
   ]
  },
  {
   "cell_type": "code",
   "execution_count": 13,
   "id": "64d1c6ed-47e6-4cfb-a079-57af0b05d9ac",
   "metadata": {},
   "outputs": [],
   "source": [
    "X_train, X_val, y_train, y_val = train_test_split(\n",
    "    train_data[['Text', 'anger', 'fear', 'joy', 'sadness']],\n",
    "    train_data['Intensity'],\n",
    "    test_size=0.2,\n",
    "    random_state=42\n",
    ")"
   ]
  },
  {
   "cell_type": "code",
   "execution_count": 14,
   "id": "44ca03d0-79ea-4744-9681-a2a191db1bb7",
   "metadata": {},
   "outputs": [],
   "source": [
    "# Loading DistilBERT tokenizer\n",
    "tokenizer = DistilBertTokenizerFast.from_pretrained('distilbert-base-uncased')"
   ]
  },
  {
   "cell_type": "code",
   "execution_count": 15,
   "id": "ea5eb0a4-2efe-4066-9da6-0165614c3df4",
   "metadata": {},
   "outputs": [],
   "source": [
    "# Tokenizing the Text column.\n",
    "max_length = 160\n",
    "tokenized_text_train = tokenizer(X_train['Text'].tolist(), truncation=True, padding=True, max_length=max_length, return_tensors=\"tf\")\n",
    "tokenized_text_val = tokenizer(X_val['Text'].tolist(), truncation=True, padding=True, max_length=max_length, return_tensors=\"tf\")"
   ]
  },
  {
   "cell_type": "code",
   "execution_count": 16,
   "id": "80875112-e986-4d43-aed0-474fb7752672",
   "metadata": {},
   "outputs": [],
   "source": [
    "\n",
    "# Converting 'input_ids' and 'attention_mask' to numpy arrays.\n",
    "X_train_ids = tokenized_text_train['input_ids'].numpy()\n",
    "X_train_mask = tokenized_text_train['attention_mask'].numpy()"
   ]
  },
  {
   "cell_type": "code",
   "execution_count": 17,
   "id": "ba7fb130-149e-4285-98a0-1920a2d39c4d",
   "metadata": {},
   "outputs": [],
   "source": [
    "X_val_ids = tokenized_text_val['input_ids'].numpy()\n",
    "X_val_mask = tokenized_text_val['attention_mask'].numpy()"
   ]
  },
  {
   "cell_type": "code",
   "execution_count": 18,
   "id": "167ced10-5127-4447-8021-c454f6ee1bdd",
   "metadata": {},
   "outputs": [
    {
     "name": "stderr",
     "output_type": "stream",
     "text": [
      "Some weights of the PyTorch model were not used when initializing the TF 2.0 model TFDistilBertModel: ['vocab_transform.bias', 'vocab_projector.bias', 'vocab_layer_norm.bias', 'vocab_transform.weight', 'vocab_layer_norm.weight']\n",
      "- This IS expected if you are initializing TFDistilBertModel from a PyTorch model trained on another task or with another architecture (e.g. initializing a TFBertForSequenceClassification model from a BertForPreTraining model).\n",
      "- This IS NOT expected if you are initializing TFDistilBertModel from a PyTorch model that you expect to be exactly identical (e.g. initializing a TFBertForSequenceClassification model from a BertForSequenceClassification model).\n",
      "All the weights of TFDistilBertModel were initialized from the PyTorch model.\n",
      "If your task is similar to the task the model of the checkpoint was trained on, you can already use TFDistilBertModel for predictions without further training.\n"
     ]
    }
   ],
   "source": [
    "# Loading the DistilBERT model\n",
    "distilbert_model = TFDistilBertModel.from_pretrained('distilbert-base-uncased')\n",
    "\n",
    "# Freeze the DistilBERT layers.\n",
    "distilbert_model.trainable = False"
   ]
  },
  {
   "cell_type": "code",
   "execution_count": 19,
   "id": "e058b031-e88c-45fd-90c3-4b9239d385f9",
   "metadata": {},
   "outputs": [],
   "source": [
    "# Create the model\n",
    "input_ids = Input(shape=(None,), dtype=tf.int32, name='input_ids')\n",
    "attention_mask = Input(shape=(None,), dtype=tf.int32, name='attention_mask')\n",
    "emotion = Input(shape=(4,), dtype=tf.float32, name='emotion')  # Assuming 4 emotions"
   ]
  },
  {
   "cell_type": "code",
   "execution_count": 20,
   "id": "4abfc33d-da7f-4c7c-a485-a0791ec7ba49",
   "metadata": {},
   "outputs": [
    {
     "data": {
      "text/plain": [
       "<KerasTensor: shape=(None, 4) dtype=float32 (created by layer 'emotion')>"
      ]
     },
     "execution_count": 20,
     "metadata": {},
     "output_type": "execute_result"
    }
   ],
   "source": [
    "emotion"
   ]
  },
  {
   "cell_type": "code",
   "execution_count": 21,
   "id": "03a7dfb3-d09f-490d-b1ba-833ebd6cf879",
   "metadata": {},
   "outputs": [
    {
     "name": "stdout",
     "output_type": "stream",
     "text": [
      "WARNING:tensorflow:From C:\\Users\\obles\\AppData\\Roaming\\Python\\Python310\\site-packages\\tensorflow\\python\\autograph\\pyct\\static_analysis\\liveness.py:83: Analyzer.lamba_check (from tensorflow.python.autograph.pyct.static_analysis.liveness) is deprecated and will be removed after 2023-09-23.\n",
      "Instructions for updating:\n",
      "Lambda fuctions will be no more assumed to be used in the statement where they are used, or at least in the same block. https://github.com/tensorflow/tensorflow/issues/56089\n"
     ]
    }
   ],
   "source": [
    "# DistilBERT processing\n",
    "distilbert_output = distilbert_model(input_ids, attention_mask=attention_mask)['last_hidden_state']\n",
    "distilbert_output = tf.reduce_mean(distilbert_output, axis=1)"
   ]
  },
  {
   "cell_type": "code",
   "execution_count": 22,
   "id": "ef3bf791-0436-4b72-8163-b06b2bb94dc3",
   "metadata": {},
   "outputs": [],
   "source": [
    "# Emotion processing\n",
    "emotion_dense = Dense(64, activation='relu')(emotion)\n",
    "\n",
    "# Concatenating processed text and emotion features\n",
    "merged_output = tf.keras.layers.concatenate([distilbert_output, emotion_dense])"
   ]
  },
  {
   "cell_type": "code",
   "execution_count": 23,
   "id": "b9128d4d-ccb6-4ebb-9820-252ded409c85",
   "metadata": {
    "tags": []
   },
   "outputs": [],
   "source": [
    "# Add additional layers for regression\n",
    "x = Dense(512, activation='relu')(merged_output)\n",
    "x = Dropout(0.2)(x)\n",
    "x = Dense(256, activation='relu')(x)  # Add another dense layer\n",
    "x = Dropout(0.2)(x)\n",
    "output = Dense(1, activation='linear')(x)\n"
   ]
  },
  {
   "cell_type": "code",
   "execution_count": 24,
   "id": "831c6101-ce50-44ab-9a29-0919da788dd8",
   "metadata": {},
   "outputs": [],
   "source": [
    "model = tf.keras.Model(inputs=[input_ids, attention_mask, emotion], outputs=output)\n"
   ]
  },
  {
   "cell_type": "code",
   "execution_count": 25,
   "id": "baa4ed34-f751-48d3-bae6-950bb82eb3c1",
   "metadata": {},
   "outputs": [],
   "source": [
    "model.compile(optimizer=tf.keras.optimizers.Adam(learning_rate=1e-4), loss='mean_squared_error', metrics=['mse'])\n"
   ]
  },
  {
   "cell_type": "code",
   "execution_count": 26,
   "id": "7f27ba28-8eec-4cb7-b7b0-5e54d1c2df0d",
   "metadata": {},
   "outputs": [
    {
     "name": "stdout",
     "output_type": "stream",
     "text": [
      "Epoch 1/8\n",
      "99/99 [==============================] - 116s 1s/step - loss: 0.0571 - mse: 0.0571 - val_loss: 0.0290 - val_mse: 0.0290\n",
      "Epoch 2/8\n",
      "99/99 [==============================] - 116s 1s/step - loss: 0.0394 - mse: 0.0394 - val_loss: 0.0286 - val_mse: 0.0286\n",
      "Epoch 3/8\n",
      "99/99 [==============================] - 119s 1s/step - loss: 0.0339 - mse: 0.0339 - val_loss: 0.0263 - val_mse: 0.0263\n",
      "Epoch 4/8\n",
      "99/99 [==============================] - 119s 1s/step - loss: 0.0320 - mse: 0.0320 - val_loss: 0.0247 - val_mse: 0.0247\n",
      "Epoch 5/8\n",
      "99/99 [==============================] - 118s 1s/step - loss: 0.0304 - mse: 0.0304 - val_loss: 0.0255 - val_mse: 0.0255\n",
      "Epoch 6/8\n",
      "99/99 [==============================] - 119s 1s/step - loss: 0.0282 - mse: 0.0282 - val_loss: 0.0255 - val_mse: 0.0255\n",
      "Epoch 7/8\n",
      "99/99 [==============================] - 120s 1s/step - loss: 0.0260 - mse: 0.0260 - val_loss: 0.0252 - val_mse: 0.0252\n",
      "Epoch 8/8\n",
      "99/99 [==============================] - 115s 1s/step - loss: 0.0247 - mse: 0.0247 - val_loss: 0.0267 - val_mse: 0.0267\n"
     ]
    }
   ],
   "source": [
    "# Train the model\n",
    "epochs = 8\n",
    "history = model.fit(\n",
    "    {'input_ids': X_train_ids, 'attention_mask': X_train_mask, 'emotion': X_train[['anger', 'fear', 'joy', 'sadness']]},\n",
    "    y_train,\n",
    "    epochs=epochs,\n",
    "    validation_data=(\n",
    "        {'input_ids': X_val_ids, 'attention_mask': X_val_mask, 'emotion': X_val[['anger', 'fear', 'joy', 'sadness']]},\n",
    "        y_val\n",
    "    )\n",
    ")"
   ]
  },
  {
   "cell_type": "code",
   "execution_count": 27,
   "id": "c6e313c8-a086-4c71-a122-5ef662def817",
   "metadata": {},
   "outputs": [
    {
     "data": {
      "image/png": "[encoded data removed]",
      "text/plain": [
       "<Figure size 432x288 with 1 Axes>"
      ]
     },
     "metadata": {
      "needs_background": "light"
     },
     "output_type": "display_data"
    }
   ],
   "source": [
    "\n",
    "# Plot training & validation loss values\n",
    "plt.plot(history.history['loss'])\n",
    "plt.plot(history.history['val_loss'])\n",
    "plt.title('Model loss')\n",
    "plt.ylabel('Loss')\n",
    "plt.xlabel('Epoch')\n",
    "plt.legend(['Train', 'Validation'], loc='upper left')\n",
    "plt.show()\n"
   ]
  },
  {
   "cell_type": "markdown",
   "id": "4108ff1b-cb4c-4f23-b34e-6f1307b20af6",
   "metadata": {},
   "source": [
    "# testing the model for test data.\n"
   ]
  },
  {
   "cell_type": "code",
   "execution_count": 28,
   "id": "f4857954-1eca-4870-8d62-8038ad087023",
   "metadata": {},
   "outputs": [
    {
     "data": {
      "text/plain": [
       "(3142, 4)"
      ]
     },
     "execution_count": 28,
     "metadata": {},
     "output_type": "execute_result"
    }
   ],
   "source": [
    "# Testing_data\n",
    "test_data = combine_data('test/with_intensity')\n",
    "test_data.shape"
   ]
  },
  {
   "cell_type": "code",
   "execution_count": 29,
   "id": "d7da3cf1-b81b-4d39-9bbf-1e9014376df0",
   "metadata": {},
   "outputs": [
    {
     "data": {
      "text/plain": [
       "0       at the point today where if someone says somet...\n",
       "1             it's game day!!!! t minus 14:30 #relentless\n",
       "2       this game has pissed me off more than any othe...\n",
       "3       i've just found out it's candice and not canda...\n",
       "4       if he can't come to my mum'a 60th after 25k tw...\n",
       "                              ...                        \n",
       "3137            why does candice constantly pout #gbbo 💄😒\n",
       "3138    #unhappy with #redbus cc, when i talked with t...\n",
       "3139    no pull him afew weeks ago, sadly theres no ga...\n",
       "3140    i'm buying art supplies and i'm debating how s...\n",
       "3141    could you ask your chafford hundred store to t...\n",
       "Name: Text, Length: 3142, dtype: object"
      ]
     },
     "execution_count": 29,
     "metadata": {},
     "output_type": "execute_result"
    }
   ],
   "source": [
    "test_data['Text'].apply(preprocess_text)"
   ]
  },
  {
   "cell_type": "code",
   "execution_count": 30,
   "id": "a22e6b52-0f43-4816-b8bc-de024922a7d5",
   "metadata": {},
   "outputs": [],
   "source": [
    "test_data_encoded = pd.get_dummies(test_data, columns=['Emotion'], prefix='', prefix_sep='')"
   ]
  },
  {
   "cell_type": "code",
   "execution_count": 31,
   "id": "23c727b1-7fe5-445d-bb30-28bb5dcea91b",
   "metadata": {},
   "outputs": [],
   "source": [
    "# Tokenize the text column in your testing dataframe\n",
    "test_tokenized_text = tokenizer(test_data_encoded['Text'].tolist(), truncation=True, padding=True, max_length=max_length, return_tensors=\"tf\")"
   ]
  },
  {
   "cell_type": "code",
   "execution_count": 32,
   "id": "16776b70-c7b3-4f78-a2ba-1cfd60be0f14",
   "metadata": {},
   "outputs": [],
   "source": [
    "# Get input_ids and attention_mask\n",
    "X_test_input_ids = test_tokenized_text['input_ids'].numpy()\n",
    "X_test_attention_mask = test_tokenized_text['attention_mask'].numpy()"
   ]
  },
  {
   "cell_type": "code",
   "execution_count": 33,
   "id": "bdab82ed-9ebc-433c-aa9b-d7bb8a403161",
   "metadata": {},
   "outputs": [],
   "source": [
    "# Assuming you have dummy variables for 'Emotion' in test_data_encoded\n",
    "test_emotion = test_data_encoded[['anger', 'fear', 'joy', 'sadness']].values"
   ]
  },
  {
   "cell_type": "code",
   "execution_count": 34,
   "id": "2ad5c871-f503-4bb8-a6e4-32d086ee5671",
   "metadata": {},
   "outputs": [
    {
     "name": "stdout",
     "output_type": "stream",
     "text": [
      "99/99 [==============================] - 102s 1s/step\n"
     ]
    }
   ],
   "source": [
    "# Make predictions\n",
    "test_predictions = model.predict({'input_ids': X_test_input_ids, 'attention_mask': X_test_attention_mask, 'emotion': test_emotion})\n"
   ]
  },
  {
   "cell_type": "code",
   "execution_count": 35,
   "id": "b914f5c5-1f7b-4a63-8aa4-e110d13f5550",
   "metadata": {},
   "outputs": [
    {
     "name": "stdout",
     "output_type": "stream",
     "text": [
      "   Intensity  Predicted_Intensity\n",
      "0      0.319             0.357315\n",
      "1      0.144             0.319397\n",
      "2      0.898             0.559356\n",
      "3      0.271             0.330375\n",
      "4      0.646             0.425333\n",
      "5      0.583             0.429818\n"
     ]
    }
   ],
   "source": [
    "# test_predictions' contains the predicted intensity values\n",
    "# 'test_data' is our test dataframe\n",
    "test_data['Predicted_Intensity'] = test_predictions\n",
    "\n",
    "# Display a subset of the actual and predicted values for comparison\n",
    "print(test_data[['Intensity', 'Predicted_Intensity']].head(6))"
   ]
  },
  {
   "cell_type": "code",
   "execution_count": 36,
   "id": "daa1cab2-cfab-44f1-8eea-6b8a660cb4e3",
   "metadata": {},
   "outputs": [
    {
     "data": {
      "text/plain": [
       "3142"
      ]
     },
     "execution_count": 36,
     "metadata": {},
     "output_type": "execute_result"
    }
   ],
   "source": [
    "len(test_predictions)"
   ]
  },
  {
   "cell_type": "code",
   "execution_count": 37,
   "id": "e039ccdf-d1c9-4b40-a798-8c146914092a",
   "metadata": {},
   "outputs": [
    {
     "data": {
      "image/png": "[encoded data removed]",
      "text/plain": [
       "<Figure size 432x288 with 1 Axes>"
      ]
     },
     "metadata": {
      "needs_background": "light"
     },
     "output_type": "display_data"
    }
   ],
   "source": [
    "plt.scatter(test_data['Intensity'], test_data['Predicted_Intensity'])\n",
    "plt.xlabel('Actual Intensity')\n",
    "plt.ylabel('Predicted Intensity')\n",
    "plt.title('Actual vs Predicted Intensity')\n",
    "plt.show()"
   ]
  },
  {
   "cell_type": "code",
   "execution_count": 38,
   "id": "8b944d5d-d79c-42f5-bbc2-2c03f4fa3e0a",
   "metadata": {},
   "outputs": [
    {
     "data": {
      "image/png": "[encoded data removed]",
      "text/plain": [
       "<Figure size 432x288 with 1 Axes>"
      ]
     },
     "metadata": {
      "needs_background": "light"
     },
     "output_type": "display_data"
    }
   ],
   "source": [
    "residuals = test_data['Intensity'] - test_data['Predicted_Intensity']\n",
    "plt.scatter(test_data['Intensity'], residuals)\n",
    "plt.xlabel('Actual Intensity')\n",
    "plt.ylabel('Residuals')\n",
    "plt.title('Residual Plot')\n",
    "plt.axhline(y=0, color='r', linestyle='--')\n",
    "plt.show()"
   ]
  },
  {
   "cell_type": "code",
   "execution_count": 39,
   "id": "2f27c2f3-d866-421e-8fe2-74efd5f3865e",
   "metadata": {},
   "outputs": [
    {
     "data": {
      "image/png": "[encoded data removed]",
      "text/plain": [
       "<Figure size 432x288 with 1 Axes>"
      ]
     },
     "metadata": {
      "needs_background": "light"
     },
     "output_type": "display_data"
    }
   ],
   "source": [
    "sns.kdeplot(test_data['Intensity'], label='Actual Intensity', shade=True)\n",
    "sns.kdeplot(test_data['Predicted_Intensity'], label='Predicted Intensity', shade=True)\n",
    "plt.xlabel('Intensity')\n",
    "plt.ylabel('Density')\n",
    "plt.title('Distribution of Actual vs Predicted Intensity')\n",
    "plt.legend()\n",
    "plt.show()"
   ]
  },
  {
   "cell_type": "code",
   "execution_count": 40,
   "id": "73fff2d0-7470-43e0-95d2-4fc3c299e551",
   "metadata": {},
   "outputs": [
    {
     "name": "stdout",
     "output_type": "stream",
     "text": [
      "Mean Squared Error: 0.03132891192575326\n",
      "Mean Absolute Error: 0.14238446757801584\n"
     ]
    }
   ],
   "source": [
    "mse = mean_squared_error(test_data['Intensity'], test_data['Predicted_Intensity'])\n",
    "mae = mean_absolute_error(test_data['Intensity'], test_data['Predicted_Intensity'])\n",
    "\n",
    "print(f'Mean Squared Error: {mse}')\n",
    "print(f'Mean Absolute Error: {mae}')"
   ]
  },
  {
   "cell_type": "code",
   "execution_count": 41,
   "id": "55555a50-9e81-4479-8f71-9ec751aa818a",
   "metadata": {},
   "outputs": [
    {
     "name": "stdout",
     "output_type": "stream",
     "text": [
      "R-squared Score: 0.20548674277649082\n"
     ]
    }
   ],
   "source": [
    "from sklearn.metrics import r2_score\n",
    "\n",
    "y_true = test_data['Intensity'].values\n",
    "\n",
    "# Replace 'Predicted_Intensity' with the column name in your DataFrame containing the predicted intensity values\n",
    "y_pred = test_data['Predicted_Intensity'].values\n",
    "\n",
    "r2 = r2_score(y_true, y_pred)\n",
    "print(f'R-squared Score: {r2}')"
   ]
  },
  {
   "cell_type": "code",
   "execution_count": null,
   "id": "471a8ea7-2057-46f9-be03-9e9eb3a9bc29",
   "metadata": {},
   "outputs": [],
   "source": []
  }
 ],
 "metadata": {
  "kernelspec": {
   "display_name": "Python 3 (ipykernel)",
   "language": "python",
   "name": "python3"
  },
  "language_info": {
   "codemirror_mode": {
    "name": "ipython",
    "version": 3
   },
   "file_extension": ".py",
   "mimetype": "text/x-python",
   "name": "python",
   "nbconvert_exporter": "python",
   "pygments_lexer": "ipython3",
   "version": "3.10.6"
  }
 },
 "nbformat": 4,
 "nbformat_minor": 5
}
